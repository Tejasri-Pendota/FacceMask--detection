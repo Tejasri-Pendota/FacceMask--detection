{
  "nbformat": 4,
  "nbformat_minor": 0,
  "metadata": {
    "colab": {
      "provenance": [],
      "authorship_tag": "ABX9TyPuREqVk4XiLloet8lFwhT7",
      "include_colab_link": true
    },
    "kernelspec": {
      "name": "python3",
      "display_name": "Python 3"
    },
    "language_info": {
      "name": "python"
    }
  },
  "cells": [
    {
      "cell_type": "markdown",
      "metadata": {
        "id": "view-in-github",
        "colab_type": "text"
      },
      "source": [
        "<a href=\"https://colab.research.google.com/github/Tejasri-Pendota/Projects/blob/main/Credit_card_Fraud_detection.ipynb\" target=\"_parent\"><img src=\"https://colab.research.google.com/assets/colab-badge.svg\" alt=\"Open In Colab\"/></a>"
      ]
    },
    {
      "cell_type": "code",
      "execution_count": null,
      "metadata": {
        "id": "M1gtmhol86_s"
      },
      "outputs": [],
      "source": []
    },
    {
      "cell_type": "markdown",
      "source": [
        "Importing the dependencies"
      ],
      "metadata": {
        "id": "hehwNgLx88T0"
      }
    },
    {
      "cell_type": "code",
      "source": [
        "import numpy as np\n",
        "import pandas as pd\n",
        "from sklearn.model_selection import train_test_split\n",
        "from sklearn.linear_model import LogisticRegression\n",
        "from sklearn.metrics import accuracy_score"
      ],
      "metadata": {
        "id": "Iei9Zohw9Azf"
      },
      "execution_count": null,
      "outputs": []
    },
    {
      "cell_type": "code",
      "source": [
        "#loading the dataset to a pandas Dataframe\n",
        "credit_card_data = pd.read_csv('/content/creditcard.csv.zip', compression='zip') # Add compression='zip' to handle zip files"
      ],
      "metadata": {
        "id": "HMcXuylt9BFU"
      },
      "execution_count": null,
      "outputs": []
    },
    {
      "cell_type": "code",
      "source": [
        "#first 5 rows of the data set\n",
        "credit_card_data.head()"
      ],
      "metadata": {
        "id": "VyCGrJtq9BHn"
      },
      "execution_count": null,
      "outputs": []
    },
    {
      "cell_type": "code",
      "source": [
        "#last 5 rows of the data set\n",
        "credit_card_data.tail()"
      ],
      "metadata": {
        "id": "Ia6vd99Z9BJm"
      },
      "execution_count": null,
      "outputs": []
    },
    {
      "cell_type": "code",
      "source": [
        "172792"
      ],
      "metadata": {
        "id": "Q703TcZr9BMW"
      },
      "execution_count": null,
      "outputs": []
    },
    {
      "cell_type": "code",
      "source": [
        "credit_card_data.info()"
      ],
      "metadata": {
        "id": "41gNEUzRDUaG"
      },
      "execution_count": null,
      "outputs": []
    },
    {
      "cell_type": "code",
      "source": [
        "\n",
        "credit_card_data.isnull().sum()"
      ],
      "metadata": {
        "id": "hM6SFBDcDUcN"
      },
      "execution_count": null,
      "outputs": []
    },
    {
      "cell_type": "code",
      "source": [
        "#distribution of legit trasaction and fraudulent transaction\n",
        "credit_card_data['Class'].value_counts()"
      ],
      "metadata": {
        "id": "QlFKrAxkDUe8"
      },
      "execution_count": null,
      "outputs": []
    },
    {
      "cell_type": "markdown",
      "source": [
        "Data is so unbalanced , if we train the model using the same data then it may not recognise the fraudulent transaction"
      ],
      "metadata": {
        "id": "sFIULaEAE2vo"
      }
    },
    {
      "cell_type": "markdown",
      "source": [
        "0--> Normal Transaction\n",
        "1--> Fraudulent Transaction"
      ],
      "metadata": {
        "id": "eEANHIwXFVoF"
      }
    },
    {
      "cell_type": "code",
      "source": [
        "legit = credit_card_data[credit_card_data.Class == 0]\n",
        "fraud = credit_card_data[credit_card_data.Class == 1]"
      ],
      "metadata": {
        "id": "yMhtln3xFbWq"
      },
      "execution_count": null,
      "outputs": []
    },
    {
      "cell_type": "code",
      "source": [
        "legit.shape"
      ],
      "metadata": {
        "id": "MOrJ7_hHFbYm"
      },
      "execution_count": null,
      "outputs": []
    },
    {
      "cell_type": "code",
      "source": [
        "fraud.shape"
      ],
      "metadata": {
        "id": "BswYj4KCFbbA"
      },
      "execution_count": null,
      "outputs": []
    },
    {
      "cell_type": "code",
      "source": [
        "#statistical easures of the data\n",
        "legit.Amount.describe()"
      ],
      "metadata": {
        "id": "_6QNz2akFbdm"
      },
      "execution_count": null,
      "outputs": []
    },
    {
      "cell_type": "code",
      "source": [
        "fraud.Amount.describe()"
      ],
      "metadata": {
        "id": "SqUMsQMyFbfr"
      },
      "execution_count": null,
      "outputs": []
    },
    {
      "cell_type": "markdown",
      "source": [],
      "metadata": {
        "id": "IZ3j2d5KIQKT"
      }
    },
    {
      "cell_type": "code",
      "source": [
        "credit_card_data.groupby('Class').mean()"
      ],
      "metadata": {
        "id": "X4df44VgFbiQ"
      },
      "execution_count": null,
      "outputs": []
    },
    {
      "cell_type": "markdown",
      "source": [
        "see the large difference betwwen legit and fradulent"
      ],
      "metadata": {
        "id": "h0EtZkicJ1I9"
      }
    },
    {
      "cell_type": "code",
      "source": [],
      "metadata": {
        "id": "0yHTCT2cFblA"
      },
      "execution_count": null,
      "outputs": []
    },
    {
      "cell_type": "markdown",
      "source": [],
      "metadata": {
        "id": "eFpcPSikFNwJ"
      }
    },
    {
      "cell_type": "code",
      "source": [],
      "metadata": {
        "id": "BqticyDHDUj6"
      },
      "execution_count": null,
      "outputs": []
    }
  ]
}